{
 "cells": [
  {
   "cell_type": "markdown",
   "metadata": {},
   "source": [
    "## CHAID Tree\n",
    "\n",
    "### Description \n",
    "\n",
    "The algorithm below is used to help explore relationships existing in the data to generate derived variables to improve the multiple linear regression model."
   ]
  },
  {
   "cell_type": "code",
   "execution_count": null,
   "metadata": {},
   "outputs": [],
   "source": [
    "# Import libraries\n",
    "library(partykit)\n",
    "library(party)"
   ]
  },
  {
   "cell_type": "code",
   "execution_count": 2,
   "metadata": {},
   "outputs": [
    {
     "data": {
      "text/html": [
       "<strong>pdf:</strong> 2"
      ],
      "text/latex": [
       "\\textbf{pdf:} 2"
      ],
      "text/markdown": [
       "**pdf:** 2"
      ],
      "text/plain": [
       "pdf \n",
       "  2 "
      ]
     },
     "metadata": {},
     "output_type": "display_data"
    },
    {
     "data": {
      "text/plain": [
       "    Length      Class       Mode \n",
       "         1 BinaryTree         S4 "
      ]
     },
     "metadata": {},
     "output_type": "display_data"
    }
   ],
   "source": [
    "# Import data\n",
    "data <- read.csv(\"Data/NHL_1983_2020.csv\")\n",
    "\n",
    "# Engineer features\n",
    "data$failedShotsPerGame <- data$shotsPerGame * (1 - (data$shootingPctg / 100))\n",
    "data$savesPerGame <- data$shotsAllowed * data$savePctg\n",
    "data$ties <- data$gamesPlayed - data$wins - data$losses\n",
    "data$adjWins <- data$wins + (data$ties / 2)\n",
    "\n",
    "# Fit the model\n",
    "fit <- ctree(adjWins~ goalsPerGame+goalsAgainstPerGame+powerPlayPercentage+penaltyKillPercentage+\n",
    "             shotsPerGame+shotsAllowed+winScoreFirst+winOppScoreFirst+winLeadFirstPer+winLeadSecondPer+\n",
    "             winOutshootOpp+winOutshotByOpp+shootingPctg+savePctg+failedShotsPerGame+savesPerGame+ties, data = data)\n",
    "\n",
    "# Export the CHAID tree visual\n",
    "pdf(file = \"fit1.pdf\", height = 20, width = 100) \n",
    "plot(fit)\n",
    "dev.off()\n",
    "\n",
    "# Detailed results including splits\n",
    "summary(fit)"
   ]
  },
  {
   "cell_type": "markdown",
   "metadata": {},
   "source": [
    "The relationship discovered is the relationship adjusted wins has with teams winning either > 61% of the games they score first or <= 61% of the games they score first. \n",
    "\n",
    "* **> 61%** of games won when teams score first will be labeled as high<br>\n",
    "* **<= 61%** of games won when teams score first will be labeled as low<br>"
   ]
  }
 ],
 "metadata": {
  "hide_input": false,
  "kernelspec": {
   "display_name": "R",
   "language": "R",
   "name": "ir"
  },
  "language_info": {
   "codemirror_mode": "r",
   "file_extension": ".r",
   "mimetype": "text/x-r-source",
   "name": "R",
   "pygments_lexer": "r",
   "version": "4.0.3"
  },
  "toc": {
   "base_numbering": 1,
   "nav_menu": {},
   "number_sections": true,
   "sideBar": true,
   "skip_h1_title": false,
   "title_cell": "Table of Contents",
   "title_sidebar": "Contents",
   "toc_cell": false,
   "toc_position": {
    "height": "calc(100% - 180px)",
    "left": "10px",
    "top": "150px",
    "width": "242px"
   },
   "toc_section_display": true,
   "toc_window_display": true
  }
 },
 "nbformat": 4,
 "nbformat_minor": 4
}
