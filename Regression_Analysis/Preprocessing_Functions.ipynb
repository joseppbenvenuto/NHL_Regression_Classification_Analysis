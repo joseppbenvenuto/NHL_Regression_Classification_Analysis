{
 "cells": [
  {
   "cell_type": "markdown",
   "metadata": {},
   "source": [
    "## Project Functions\n",
    "\n",
    "### Description\n",
    "\n",
    "Below are the different functions used in the analysis."
   ]
  },
  {
   "cell_type": "code",
   "execution_count": 1,
   "metadata": {},
   "outputs": [],
   "source": [
    "# Import libraries\n",
    "import pandas as pd\n",
    "pd.set_option('display.max_rows', None)\n",
    "pd.set_option('display.max_columns', None)\n",
    "\n",
    "import numpy as np\n",
    "import matplotlib.pyplot as plt\n",
    "import seaborn as sns\n",
    "\n",
    "from patsy import dmatrices\n",
    "from scipy import stats\n",
    "from statsmodels.stats.outliers_influence import variance_inflation_factor"
   ]
  },
  {
   "cell_type": "markdown",
   "metadata": {},
   "source": [
    "### Histogram Plots and Descriptive Stats Function"
   ]
  },
  {
   "cell_type": "code",
   "execution_count": null,
   "metadata": {},
   "outputs": [],
   "source": [
    "# Histogram plots for all numeric data minus target value followed by supporting stats\n",
    "def num_univariate_histogram(df, length, width, rows, col, font, kind):\n",
    "    if kind == 1:\n",
    "        X_num = df\n",
    "        X_num = X_num[X_num.columns[0:-1]] \n",
    "        \n",
    "        sns.set(font_scale = font, style = 'white')\n",
    "        X_num.hist(bins = 50, figsize = (width, length), layout = (rows, col), grid = False)\n",
    "        plt.show()\n",
    "        \n",
    "        print('\\n' + 'X continuous descriptive stats:')\n",
    "        describe = X_num.describe().T\n",
    "        display(describe)\n",
    "        \n",
    "    if kind == 2:\n",
    "        X_num = df\n",
    "        \n",
    "        sns.set(font_scale = 1, style = 'white')\n",
    "        X_num.hist(bins = 50, figsize = (width, length), layout = (rows, col), grid = False)\n",
    "        plt.show()\n",
    "        \n",
    "        print('\\n' + 'X continuous descriptive stats:')\n",
    "        describe = X_num.describe().T\n",
    "        display(describe)"
   ]
  },
  {
   "cell_type": "markdown",
   "metadata": {},
   "source": [
    "* **df** = data frame\n",
    "* **length** = legnth of plot (int)\n",
    "* **width** = width of plot (int)\n",
    "* **rows** = number of rows for subplots (int)\n",
    "* **col** = number of columns for subplts (int)\n",
    "* **font** = font size ranging from 1-3 (int)\n",
    "* **kind** = '1' for all numeric variables outside the target variable and '2' for all numeric variables (int)\n"
   ]
  },
  {
   "cell_type": "markdown",
   "metadata": {},
   "source": [
    "### Frequency Plots and Descriptive Stats Function"
   ]
  },
  {
   "cell_type": "code",
   "execution_count": null,
   "metadata": {},
   "outputs": [],
   "source": [
    "# frequency plot for all categorical data followed by supporting stats\n",
    "def cat_univariate_freq(df, length, width, col_start, col_end, font):\n",
    "    X_cat = df.select_dtypes(include = ['object'])\n",
    "    X_cat = X_cat.columns[col_start : col_end]\n",
    "\n",
    "    for X in X_cat:\n",
    "        series = round((df[X].value_counts(normalize = True)) * 100, 0)\n",
    "        series = series.sort_values(ascending = True)\n",
    "        \n",
    "        sns.set(font_scale = font, style = 'white')\n",
    "        series.plot.barh(figsize = (width, length))\n",
    "        plt.title(X + ' frequencies')\n",
    "        plt.xlabel('percent')\n",
    "        plt.ylabel(X)\n",
    "        plt.show()"
   ]
  },
  {
   "cell_type": "markdown",
   "metadata": {},
   "source": [
    "* **df** = data frame\n",
    "* **length** = legnth of plot (int)\n",
    "* **width** = width of plot (int)\n",
    "* **col_start** = start of columns index to use in functions (int)\n",
    "* **col_end** = end of columns index to use in functions (int)\n",
    "* **font** = font size ranging from 1-3 (int)"
   ]
  },
  {
   "cell_type": "markdown",
   "metadata": {},
   "source": [
    "### Target Scatter Plot and Descriptive Stats Function"
   ]
  },
  {
   "cell_type": "code",
   "execution_count": null,
   "metadata": {},
   "outputs": [],
   "source": [
    "# Individual scatter plot with set x and y labels followed by supporting stats\n",
    "def target_univariate_scatter(df, x, y, length, width, font):\n",
    "    df = df.reset_index()\n",
    "    \n",
    "    sns.set(font_scale = font, style = 'white')\n",
    "    plt.figure(figsize = (width, length))\n",
    "    sns.scatterplot(data = df, x = x, y = y)\n",
    "    plt.title('season ' + y + ' by ' + x)\n",
    "    plt.xlabel(x)\n",
    "    plt.ylabel(y)\n",
    "    plt.show()"
   ]
  },
  {
   "cell_type": "markdown",
   "metadata": {},
   "source": [
    "* **df** = data frame\n",
    "* **x** = x variable in scatter plot (str)\n",
    "* **y** = y variable in scatter plot (str)\n",
    "* **length** = legnth of plot (int)\n",
    "* **width** = width of plot (int)\n",
    "* **font** = font size ranging from 1-3 (int)"
   ]
  },
  {
   "cell_type": "markdown",
   "metadata": {},
   "source": [
    "### Scatter Plots By Many X Variables and One y Variable Function"
   ]
  },
  {
   "cell_type": "code",
   "execution_count": null,
   "metadata": {},
   "outputs": [],
   "source": [
    "# Scatter plots for numeric data when x is set to an index of columns and the target vairable for y\n",
    "def num_bivariate_scatter(df, y, x, font, length, width):\n",
    "    X_num = df.select_dtypes(include = ['float64', 'int64'])\n",
    "    \n",
    "    sns.set(font_scale = font, style = 'white')\n",
    "    plot = sns.pairplot(data = df, y_vars = y, x_vars = x, diag_kind = None)\n",
    "    plot.fig.set_size_inches(width, length)\n",
    "    plt.show()"
   ]
  },
  {
   "cell_type": "markdown",
   "metadata": {},
   "source": [
    "* **df** = data frame\n",
    "* **x** = x variable in scatter plot (str)\n",
    "* **y** = y variable in scatter plot (list of column names or str)\n",
    "* **font** = font size ranging from 1-3 (int)\n",
    "* **length** = legnth of plot (int)\n",
    "* **width** = width of plot (int)"
   ]
  },
  {
   "cell_type": "markdown",
   "metadata": {},
   "source": [
    "### Corrolation Heat Map With Corrolation Scores to Target Function"
   ]
  },
  {
   "cell_type": "code",
   "execution_count": null,
   "metadata": {},
   "outputs": [],
   "source": [
    "# Corrolation heat map for all variables against target variable followed by supporting stats\n",
    "def num_bivariate_corr_target(df, target, threshold, font, length, width):\n",
    "    X_corr = df.corr(method = 'pearson')\n",
    "    X_corr = X_corr[[target]]\n",
    "    \n",
    "    sns.set(font_scale = font, style = 'white')\n",
    "    fig, ax = plt.subplots()\n",
    "    fig.set_size_inches(width, length)\n",
    "    sns.heatmap(X_corr)\n",
    "    plt.title('corrolation matrix')\n",
    "    plt.show()\n",
    "    \n",
    "    X_corr = X_corr.sort_values(by = [target], ascending = False)\n",
    "    display(X_corr)\n",
    "    \n",
    "    X_corr = X_corr.reset_index()\n",
    "    X_corr[target] = abs(X_corr[target])\n",
    "    X_corr = X_corr.loc[X_corr[target] < threshold]\n",
    "    X_corr = list(X_corr['index'])\n",
    "    \n",
    "    print('\\n' + 'features to remove: ')\n",
    "    print(X_corr)"
   ]
  },
  {
   "cell_type": "markdown",
   "metadata": {},
   "source": [
    "* **df** = data frame\n",
    "* **target** = target variable (str)\n",
    "* **threshold** = threshold correlation before suggesting removal of varibale (int)\n",
    "* **font** = font size ranging from 1-3 (int)\n",
    "* **length** = legnth of plot (int)\n",
    "* **width** = width of plot (int)"
   ]
  },
  {
   "cell_type": "markdown",
   "metadata": {},
   "source": [
    "### Average Numeric Data Per Categorical Data Bar Chart <br> and Stats Function"
   ]
  },
  {
   "cell_type": "code",
   "execution_count": null,
   "metadata": {},
   "outputs": [],
   "source": [
    "# Bar plot to visulaize the average of a given numeric data to a given categorical target followed by supporting stas\n",
    "def cat_bivariate_avg_target(df, col_start, col_end, target, length, width, font):\n",
    "    X_cat = df.select_dtypes(include = ['object'])\n",
    "    X_cat = X_cat.columns[col_start : col_end]\n",
    "\n",
    "    for X in X_cat:\n",
    "        label = X\n",
    "        label = df[[X, target]]\n",
    "        label = label.sort_values(by = [target], ascending = False)\n",
    "        label = round(label.groupby([X]).mean(), 0)\n",
    "        label = label.sort_values(by = [target], ascending = True)\n",
    "        label['positive'] = label[target] > 0\n",
    "        \n",
    "        sns.set(font_scale = font, style = 'white')\n",
    "        label[target].plot(kind = 'barh', \n",
    "                           figsize = (width, length), \n",
    "                           color = label.positive.map({True:'b', False:'r'}))\n",
    "        plt.title('average ' + target + ' per ' + X)\n",
    "        plt.xlabel('average '+ target)\n",
    "        plt.ylabel(X)\n",
    "        plt.show()\n",
    "        \n",
    "        label = label.sort_values(by = [target], ascending = False)\n",
    "        display(label)"
   ]
  },
  {
   "cell_type": "markdown",
   "metadata": {},
   "source": [
    "* **df** = data frame\n",
    "* **col_start** = start of columns index to use in functions (int)\n",
    "* **col_end** = end of columns index to use in functions (int)\n",
    "* **length** = legnth of plot (int)\n",
    "* **width** = width of plot (int)\n",
    "* **font** = font size ranging from 1-3 (int)"
   ]
  },
  {
   "cell_type": "markdown",
   "metadata": {},
   "source": [
    "### Outlier Function"
   ]
  },
  {
   "cell_type": "code",
   "execution_count": null,
   "metadata": {},
   "outputs": [],
   "source": [
    "# Provides high and low gate for outliers per given column\n",
    "def remove_outliers(df, col):\n",
    "    p_25 = df[col].quantile(.25)\n",
    "    p_75 = df[col].quantile(.75)\n",
    "    iqr = (p_75 - p_25) * 1.5\n",
    "    low_outliers = p_25 - iqr\n",
    "    high_outliers = p_75 + iqr\n",
    "    df = df.loc[(df[col] > low_outliers) & (df[col] < high_outliers)]\n",
    "    return ('low end outliers:', low_outliers, 'high end outliers', high_outliers)"
   ]
  },
  {
   "cell_type": "markdown",
   "metadata": {},
   "source": [
    "* **df** = data frame\n",
    "* **col** = column to analyze for outliers (str)"
   ]
  },
  {
   "cell_type": "markdown",
   "metadata": {},
   "source": [
    "### Sum of Categorical Variables Per Categorical Variable Bar Chart <br> and Stats Function"
   ]
  },
  {
   "cell_type": "code",
   "execution_count": null,
   "metadata": {},
   "outputs": [],
   "source": [
    "# Counts binary target vairable as a percent per given cetegorical variable followed by supporting stats\n",
    "def class_cat_bivariate(df, flag, length, width, col_start, col_end):\n",
    "    X_cat = df.select_dtypes(include = ['object'])\n",
    "    X_cat = X_cat.columns[col_start : col_end]\n",
    "    \n",
    "    for X in X_cat:\n",
    "        label1 = df[[X, flag]]\n",
    "        label1 = round(label1.groupby([X]).sum(), 0)\n",
    "\n",
    "        label2 = df[[X, flag]]\n",
    "        label2 = round(label2.groupby([X]).count(), 0)\n",
    "\n",
    "        label3 = pd.concat([label1, label2], axis = 1)\n",
    "        label3.columns = ['sum', 'count']\n",
    "        label3['rate'] = round((label3['sum'] / label3['count']) * 100, 0)\n",
    "        label3 = label3.sort_values(by = ['rate'], ascending = True)\n",
    "\n",
    "        label3['rate'].plot.barh(figsize = (width, length))\n",
    "        plt.title('average ' + flag + ' per ' + X)\n",
    "        plt.xlabel('rate of '+ flag)\n",
    "        plt.ylabel(X)\n",
    "        plt.show()\n",
    "        label3 = label3.sort_values(by = ['rate'], ascending = False)\n",
    "        return print(label3)"
   ]
  },
  {
   "cell_type": "markdown",
   "metadata": {},
   "source": [
    "* **df** = data frame\n",
    "* **flag** = target variable for classification\n",
    "* **length** = legnth of plot (int)\n",
    "* **width** = width of plot (int)\n",
    "* **col_start** = start of columns index to use in functions (int)\n",
    "* **col_end** = end of columns index to use in functions (int)"
   ]
  },
  {
   "cell_type": "markdown",
   "metadata": {},
   "source": [
    "### VIF Scores Function"
   ]
  },
  {
   "cell_type": "code",
   "execution_count": 2,
   "metadata": {},
   "outputs": [],
   "source": [
    "# Drops features one at a time until VIF scores are appropriate\n",
    "def calculate_vif(X, target, threshold, feature_elim):\n",
    "    feature_list = []\n",
    "    Feature_vif_list = []\n",
    "    max = feature_elim\n",
    "    min = 0\n",
    "    \n",
    "    while min <= max:\n",
    "        X = X.drop(feature_list, axis = 1, errors = 'ignore')\n",
    "        features = '+'.join(X.columns[0:len(X.columns)-1])\n",
    "        y, X1 = dmatrices('aboveMeanAdjWins ~' + features, X, return_type = 'dataframe')\n",
    "        \n",
    "        vif = pd.DataFrame()\n",
    "        vif['vif'] = [variance_inflation_factor(X1.values, i) for i in range(X1.shape[1])]\n",
    "        vif['features'] = X1.columns\n",
    "        vif = vif.sort_values(by = ['vif'], ascending = False).reset_index(drop = True)\n",
    "        \n",
    "        vif['vif2'] = vif['vif']\n",
    "        vif.loc[vif.features == 'Intercept', 'vif2'] = 0\n",
    "        maxloc = vif.loc[vif['vif2'][0:].idxmax()][1]\n",
    "        maxloc_num = vif.loc[vif['vif2'][0:].idxmax()][0]\n",
    "        \n",
    "        if maxloc_num > threshold and maxloc != 'Intercept':\n",
    "            feature_list.append(maxloc)\n",
    "            Feature_vif_list.append(maxloc_num)\n",
    "            min += 1\n",
    "        else:\n",
    "            min += 1\n",
    "    \n",
    "    vif = vif.drop(['vif2'], axis = 1, errors = 'ingore')\n",
    "    display(vif)\n",
    "    print('\\n' + 'dropped features: ')\n",
    " \n",
    "    return [feature_list,Feature_vif_list]"
   ]
  },
  {
   "cell_type": "markdown",
   "metadata": {},
   "source": [
    "* **X** = X variables data frame\n",
    "* **target** = traget variable (str)\n",
    "* **threhold** =  variance inflation factor (int)**\n",
    "* **feature_elim** = number of columns (int)"
   ]
  }
 ],
 "metadata": {
  "hide_input": false,
  "kernelspec": {
   "display_name": "Python 3",
   "language": "python",
   "name": "python3"
  },
  "language_info": {
   "codemirror_mode": {
    "name": "ipython",
    "version": 3
   },
   "file_extension": ".py",
   "mimetype": "text/x-python",
   "name": "python",
   "nbconvert_exporter": "python",
   "pygments_lexer": "ipython3",
   "version": "3.8.8"
  },
  "toc": {
   "base_numbering": 1,
   "nav_menu": {},
   "number_sections": true,
   "sideBar": true,
   "skip_h1_title": false,
   "title_cell": "Table of Contents",
   "title_sidebar": "Contents",
   "toc_cell": false,
   "toc_position": {
    "height": "calc(100% - 180px)",
    "left": "10px",
    "top": "150px",
    "width": "466px"
   },
   "toc_section_display": true,
   "toc_window_display": true
  }
 },
 "nbformat": 4,
 "nbformat_minor": 4
}
