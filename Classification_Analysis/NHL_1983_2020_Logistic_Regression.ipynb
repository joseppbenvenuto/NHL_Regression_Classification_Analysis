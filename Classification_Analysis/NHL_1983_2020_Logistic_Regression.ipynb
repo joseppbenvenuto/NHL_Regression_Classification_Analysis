{
 "cells": [
  {
   "cell_type": "markdown",
   "metadata": {},
   "source": [
    "## NHL Season Playoff Outcome Logistic Regression\n",
    "\n",
    "### Description\n",
    "\n",
    "The following classification analysis seeks to predict failed playoff outcomes with team season adjusted wins (wins + (ties / 2)) above the mean adjusted wins of any given season for years 1983 - 2020.\n",
    "\n",
    "The goal of the analysis is to build a model that can use aboveMeanAdjWins to predict playoff outcomes.\n",
    "\n",
    "By deeply understanding the mentioned features above, a clearer understanding of the path to **not making** and to **making** the playoffs should be gained. "
   ]
  },
  {
   "cell_type": "code",
   "execution_count": 1,
   "metadata": {},
   "outputs": [],
   "source": [
    "# Import libraries\n",
    "import pandas as pd\n",
    "pd.set_option('display.max_rows', None)\n",
    "pd.set_option('display.max_columns', None)\n",
    "import numpy as np\n",
    "import matplotlib.pyplot as plt\n",
    "import seaborn as sns\n",
    "import warnings\n",
    "warnings.filterwarnings('ignore')\n",
    "from sklearn.model_selection import StratifiedShuffleSplit\n",
    "from sklearn.linear_model import LogisticRegression\n",
    "from ipynb.fs.full.Preprocessing_Functions import *\n",
    "from ipynb.fs.full.AUC_CAP_Functions import *\n",
    "from pickle import dump \n",
    "from pickle import load"
   ]
  },
  {
   "cell_type": "markdown",
   "metadata": {},
   "source": [
    "### Data Preprocessing"
   ]
  },
  {
   "cell_type": "code",
   "execution_count": 2,
   "metadata": {},
   "outputs": [
    {
     "name": "stdout",
     "output_type": "stream",
     "text": [
      "<class 'pandas.core.frame.DataFrame'>\n",
      "RangeIndex: 887 entries, 0 to 886\n",
      "Data columns (total 3 columns):\n",
      " #   Column                Non-Null Count  Dtype  \n",
      "---  ------                --------------  -----  \n",
      " 0   aboveMeanAdjWins      887 non-null    float64\n",
      " 1   predAboveMeanAdjWins  887 non-null    float64\n",
      " 2   failed_playoff_flag   887 non-null    int64  \n",
      "dtypes: float64(2), int64(1)\n",
      "memory usage: 20.9 KB\n"
     ]
    },
    {
     "data": {
      "text/html": [
       "<div>\n",
       "<style scoped>\n",
       "    .dataframe tbody tr th:only-of-type {\n",
       "        vertical-align: middle;\n",
       "    }\n",
       "\n",
       "    .dataframe tbody tr th {\n",
       "        vertical-align: top;\n",
       "    }\n",
       "\n",
       "    .dataframe thead th {\n",
       "        text-align: right;\n",
       "    }\n",
       "</style>\n",
       "<table border=\"1\" class=\"dataframe\">\n",
       "  <thead>\n",
       "    <tr style=\"text-align: right;\">\n",
       "      <th></th>\n",
       "      <th>aboveMeanAdjWins</th>\n",
       "      <th>predAboveMeanAdjWins</th>\n",
       "      <th>failed_playoff_flag</th>\n",
       "    </tr>\n",
       "  </thead>\n",
       "  <tbody>\n",
       "    <tr>\n",
       "      <th>0</th>\n",
       "      <td>-19.470588</td>\n",
       "      <td>-18.536262</td>\n",
       "      <td>1</td>\n",
       "    </tr>\n",
       "    <tr>\n",
       "      <th>1</th>\n",
       "      <td>12.029412</td>\n",
       "      <td>12.587617</td>\n",
       "      <td>0</td>\n",
       "    </tr>\n",
       "    <tr>\n",
       "      <th>2</th>\n",
       "      <td>6.529412</td>\n",
       "      <td>1.282356</td>\n",
       "      <td>0</td>\n",
       "    </tr>\n",
       "    <tr>\n",
       "      <th>3</th>\n",
       "      <td>9.029412</td>\n",
       "      <td>6.603477</td>\n",
       "      <td>0</td>\n",
       "    </tr>\n",
       "    <tr>\n",
       "      <th>4</th>\n",
       "      <td>-20.970588</td>\n",
       "      <td>-19.097031</td>\n",
       "      <td>1</td>\n",
       "    </tr>\n",
       "  </tbody>\n",
       "</table>\n",
       "</div>"
      ],
      "text/plain": [
       "   aboveMeanAdjWins  predAboveMeanAdjWins  failed_playoff_flag\n",
       "0        -19.470588            -18.536262                    1\n",
       "1         12.029412             12.587617                    0\n",
       "2          6.529412              1.282356                    0\n",
       "3          9.029412              6.603477                    0\n",
       "4        -20.970588            -19.097031                    1"
      ]
     },
     "execution_count": 2,
     "metadata": {},
     "output_type": "execute_result"
    }
   ],
   "source": [
    "# Import the data frame from the logistic regression EDA\n",
    "nhl_df = pd.read_csv('Data/NHL_1983_2020_Playoff_Data_Removed_Outliers.csv')\n",
    "# Drop unneeded columns\n",
    "nhl_df = nhl_df.drop(['Unnamed: 0'], axis = 1)\n",
    "\n",
    "# Print Data Summary\n",
    "nhl_df.info()\n",
    "nhl_df.head()"
   ]
  },
  {
   "cell_type": "markdown",
   "metadata": {},
   "source": [
    "The data from the logistic regression EDA analysis is imported."
   ]
  },
  {
   "cell_type": "code",
   "execution_count": 3,
   "metadata": {},
   "outputs": [
    {
     "name": "stdout",
     "output_type": "stream",
     "text": [
      "0    0.606539\n",
      "1    0.393461\n",
      "Name: failed_playoff_flag, dtype: float64\n"
     ]
    }
   ],
   "source": [
    "# Check the frequency of failed_playoff_flag\n",
    "failed_playoff_flag_strata = nhl_df['failed_playoff_flag'].value_counts() / len(nhl_df)\n",
    "print(failed_playoff_flag_strata)"
   ]
  },
  {
   "cell_type": "markdown",
   "metadata": {},
   "source": [
    "The frequencies of the failed_playoff_flag instances are observed."
   ]
  },
  {
   "cell_type": "code",
   "execution_count": 4,
   "metadata": {},
   "outputs": [],
   "source": [
    "# Split the data into an 80/20 train and test stratified split by failed_playoff_flag frequency\n",
    "split = StratifiedShuffleSplit(n_splits = 1, test_size = 0.2, random_state = 42) \n",
    "for train_index, test_index in split.split(nhl_df, nhl_df['failed_playoff_flag']):\n",
    "    strat_train_set = nhl_df.loc[train_index] \n",
    "    strat_test_set = nhl_df.loc[test_index]"
   ]
  },
  {
   "cell_type": "markdown",
   "metadata": {},
   "source": [
    "The data is at an 80/20 stratified train and test split. This will allow the train and test data to retain the proportion of playoff outcomes (failed_playoff_flag).\n",
    "\n",
    "Splitting the data through stratified splits will allow for a more robust model."
   ]
  },
  {
   "cell_type": "code",
   "execution_count": 5,
   "metadata": {},
   "outputs": [
    {
     "name": "stdout",
     "output_type": "stream",
     "text": [
      "\n",
      "train and test data season type percent of data:\n"
     ]
    },
    {
     "data": {
      "image/png": "[encoded data removed]",
      "text/plain": [
       "<Figure size 720x216 with 1 Axes>"
      ]
     },
     "metadata": {},
     "output_type": "display_data"
    },
    {
     "name": "stdout",
     "output_type": "stream",
     "text": [
      "0    61.0\n",
      "1    39.0\n",
      "Name: failed_playoff_flag, dtype: float64\n"
     ]
    },
    {
     "data": {
      "image/png": "[encoded data removed]",
      "text/plain": [
       "<Figure size 720x216 with 1 Axes>"
      ]
     },
     "metadata": {},
     "output_type": "display_data"
    },
    {
     "name": "stdout",
     "output_type": "stream",
     "text": [
      "0    61.0\n",
      "1    39.0\n",
      "Name: failed_playoff_flag, dtype: float64\n"
     ]
    }
   ],
   "source": [
    "# Check the train and test data failed_playoff_flag frequency to test the stratified data split\n",
    "print('\\n' + 'train and test data season type percent of data:')\n",
    "\n",
    "train_temp = strat_train_set[['failed_playoff_flag']].astype(str)\n",
    "test_temp = strat_test_set[['failed_playoff_flag']].astype(str)\n",
    "\n",
    "cat_univariate_freq(df = train_temp, length = 3, width = 10, index_rows = 0, index_col = 1, font = 1)\n",
    "cat_univariate_freq(df = test_temp, length = 3, width = 10, index_rows = 0, index_col = 1, font = 1)"
   ]
  },
  {
   "cell_type": "markdown",
   "metadata": {},
   "source": [
    "The stratified train and test split playoff outcome proportions are visualized through the failed_playoff_flag for train and test data."
   ]
  },
  {
   "cell_type": "code",
   "execution_count": 6,
   "metadata": {},
   "outputs": [
    {
     "name": "stdout",
     "output_type": "stream",
     "text": [
      "\n",
      "train data:\n",
      "\n",
      "<class 'pandas.core.frame.DataFrame'>\n",
      "RangeIndex: 709 entries, 0 to 708\n",
      "Data columns (total 1 columns):\n",
      " #   Column            Non-Null Count  Dtype  \n",
      "---  ------            --------------  -----  \n",
      " 0   aboveMeanAdjWins  709 non-null    float64\n",
      "dtypes: float64(1)\n",
      "memory usage: 5.7 KB\n",
      "None\n",
      "\n",
      "\n",
      "<class 'pandas.core.frame.DataFrame'>\n",
      "RangeIndex: 709 entries, 0 to 708\n",
      "Data columns (total 1 columns):\n",
      " #   Column               Non-Null Count  Dtype\n",
      "---  ------               --------------  -----\n",
      " 0   failed_playoff_flag  709 non-null    int64\n",
      "dtypes: int64(1)\n",
      "memory usage: 5.7 KB\n",
      "None\n",
      "\n",
      "test data:\n",
      "\n",
      "<class 'pandas.core.frame.DataFrame'>\n",
      "RangeIndex: 178 entries, 0 to 177\n",
      "Data columns (total 1 columns):\n",
      " #   Column            Non-Null Count  Dtype  \n",
      "---  ------            --------------  -----  \n",
      " 0   aboveMeanAdjWins  178 non-null    float64\n",
      "dtypes: float64(1)\n",
      "memory usage: 1.5 KB\n",
      "None\n",
      "\n",
      "\n",
      "<class 'pandas.core.frame.DataFrame'>\n",
      "RangeIndex: 178 entries, 0 to 177\n",
      "Data columns (total 1 columns):\n",
      " #   Column               Non-Null Count  Dtype\n",
      "---  ------               --------------  -----\n",
      " 0   failed_playoff_flag  178 non-null    int64\n",
      "dtypes: int64(1)\n",
      "memory usage: 1.5 KB\n",
      "None\n"
     ]
    }
   ],
   "source": [
    "# Slpit the train set into X_train and y_train\n",
    "X_train = strat_train_set[strat_train_set.columns[0:len(strat_train_set.columns)-2]].reset_index(drop = True)\n",
    "y_train = strat_train_set[['failed_playoff_flag']].reset_index(drop = True)\n",
    "\n",
    "print('\\n' + 'train data:' + '\\n')\n",
    "print(X_train.info())\n",
    "print('\\n')\n",
    "print(y_train.info())\n",
    "\n",
    "# Slpit the test set into X_test and y_test\n",
    "X_test = strat_test_set[strat_test_set.columns[0:len(strat_test_set.columns)-2]].reset_index(drop = True)\n",
    "y_test = strat_test_set[['failed_playoff_flag']].reset_index(drop = True)\n",
    "\n",
    "print('\\n' + 'test data:' + '\\n')\n",
    "print(X_test.info())\n",
    "print('\\n')\n",
    "print(y_test.info())"
   ]
  },
  {
   "cell_type": "markdown",
   "metadata": {},
   "source": [
    "The train and test data are split so X and y values are set to their own data frames."
   ]
  },
  {
   "cell_type": "markdown",
   "metadata": {},
   "source": [
    "### Model Training and Testing\n",
    "\n",
    "#### Model Training, Evaluation, and Interpretation"
   ]
  },
  {
   "cell_type": "code",
   "execution_count": 7,
   "metadata": {},
   "outputs": [
    {
     "name": "stdout",
     "output_type": "stream",
     "text": [
      "\n",
      "\n",
      "<class 'pandas.core.frame.DataFrame'>\n",
      "RangeIndex: 709 entries, 0 to 708\n",
      "Data columns (total 3 columns):\n",
      " #   Column               Non-Null Count  Dtype  \n",
      "---  ------               --------------  -----  \n",
      " 0   failed_playoff_flag  709 non-null    int64  \n",
      " 1   predictions_train    709 non-null    int64  \n",
      " 2   predicted_proba      709 non-null    float64\n",
      "dtypes: float64(1), int64(2)\n",
      "memory usage: 16.7 KB\n"
     ]
    },
    {
     "data": {
      "text/html": [
       "<div>\n",
       "<style scoped>\n",
       "    .dataframe tbody tr th:only-of-type {\n",
       "        vertical-align: middle;\n",
       "    }\n",
       "\n",
       "    .dataframe tbody tr th {\n",
       "        vertical-align: top;\n",
       "    }\n",
       "\n",
       "    .dataframe thead th {\n",
       "        text-align: right;\n",
       "    }\n",
       "</style>\n",
       "<table border=\"1\" class=\"dataframe\">\n",
       "  <thead>\n",
       "    <tr style=\"text-align: right;\">\n",
       "      <th></th>\n",
       "      <th>failed_playoff_flag</th>\n",
       "      <th>predictions_train</th>\n",
       "      <th>predicted_proba</th>\n",
       "    </tr>\n",
       "  </thead>\n",
       "  <tbody>\n",
       "    <tr>\n",
       "      <th>0</th>\n",
       "      <td>1</td>\n",
       "      <td>1</td>\n",
       "      <td>0.786444</td>\n",
       "    </tr>\n",
       "    <tr>\n",
       "      <th>1</th>\n",
       "      <td>0</td>\n",
       "      <td>0</td>\n",
       "      <td>0.058665</td>\n",
       "    </tr>\n",
       "    <tr>\n",
       "      <th>2</th>\n",
       "      <td>0</td>\n",
       "      <td>0</td>\n",
       "      <td>0.025678</td>\n",
       "    </tr>\n",
       "    <tr>\n",
       "      <th>3</th>\n",
       "      <td>1</td>\n",
       "      <td>1</td>\n",
       "      <td>0.950548</td>\n",
       "    </tr>\n",
       "    <tr>\n",
       "      <th>4</th>\n",
       "      <td>1</td>\n",
       "      <td>0</td>\n",
       "      <td>0.487961</td>\n",
       "    </tr>\n",
       "  </tbody>\n",
       "</table>\n",
       "</div>"
      ],
      "text/plain": [
       "   failed_playoff_flag  predictions_train  predicted_proba\n",
       "0                    1                  1         0.786444\n",
       "1                    0                  0         0.058665\n",
       "2                    0                  0         0.025678\n",
       "3                    1                  1         0.950548\n",
       "4                    1                  0         0.487961"
      ]
     },
     "execution_count": 7,
     "metadata": {},
     "output_type": "execute_result"
    }
   ],
   "source": [
    "# Fit and train the logistic regression model\n",
    "logit_regressor = LogisticRegression()\n",
    "logit_regressor.fit(X_train, y_train)\n",
    "\n",
    "# Predict with X_train data\n",
    "y_pred_train = logit_regressor.predict(X_train)\n",
    "# Create a data frame from the predicted results\n",
    "y_pred_train = pd.DataFrame(y_pred_train, columns = ['predictions_train'])\n",
    "\n",
    "# Creates a data frame from the prediction probabilities\n",
    "proba = logit_regressor.predict_proba(X_train)\n",
    "proba = pd.DataFrame(proba, columns = ['0', 'predicted_proba'])\n",
    "proba = proba[['predicted_proba']]\n",
    "\n",
    "# Create a separate data frame from y_train\n",
    "playoff_flag = y_train.reset_index(drop = True).reset_index(drop = True)\n",
    "\n",
    "# Concatenate all three data frames\n",
    "results = pd.concat([playoff_flag, y_pred_train, proba], axis = 1)\n",
    "\n",
    "# Print data summary\n",
    "print('\\n')\n",
    "results.info()\n",
    "results.head()"
   ]
  },
  {
   "cell_type": "markdown",
   "metadata": {},
   "source": [
    "The model is trained to predict failed_playoff_flag output by the aboveMeanAdjWins. "
   ]
  },
  {
   "cell_type": "code",
   "execution_count": 8,
   "metadata": {
    "scrolled": false
   },
   "outputs": [
    {
     "name": "stdout",
     "output_type": "stream",
     "text": [
      "\n",
      "\n",
      "Pairs:                              ..............119970\n",
      "Conc:                               ..............114649\n",
      "Disc:                               ................5299\n",
      "Tied:                               ..................22\n",
      "\n",
      "\n",
      "Concordance:                        ................0.96\n",
      "Discordance:                        ................0.04\n",
      "Tied:                               .................0.0\n",
      "Somers D:                           ................0.91\n",
      "\n",
      "\n"
     ]
    },
    {
     "data": {
      "image/png": "[encoded data removed]",
      "text/plain": [
       "<Figure size 720x216 with 1 Axes>"
      ]
     },
     "metadata": {},
     "output_type": "display_data"
    },
    {
     "name": "stdout",
     "output_type": "stream",
     "text": [
      "\n",
      "\n",
      "AUC:                                ................0.96\n",
      "\n",
      "\n",
      "confussion matrix\n",
      "\n",
      "     1    0\n",
      "1  393   37\n",
      "0   43  236\n",
      "\n",
      "\n",
      "Accuracy:                           ................0.89\n",
      "Precision:                          ................0.91\n",
      "Recall:                             .................0.9\n",
      "F1:                                 .................0.9\n",
      "\n",
      "\n"
     ]
    },
    {
     "data": {
      "image/png": "[encoded data removed]",
      "text/plain": [
       "<Figure size 720x216 with 1 Axes>"
      ]
     },
     "metadata": {},
     "output_type": "display_data"
    },
    {
     "data": {
      "text/html": [
       "<div>\n",
       "<style scoped>\n",
       "    .dataframe tbody tr th:only-of-type {\n",
       "        vertical-align: middle;\n",
       "    }\n",
       "\n",
       "    .dataframe tbody tr th {\n",
       "        vertical-align: top;\n",
       "    }\n",
       "\n",
       "    .dataframe thead th {\n",
       "        text-align: right;\n",
       "    }\n",
       "</style>\n",
       "<table border=\"1\" class=\"dataframe\">\n",
       "  <thead>\n",
       "    <tr style=\"text-align: right;\">\n",
       "      <th></th>\n",
       "      <th>bin</th>\n",
       "      <th>count_of_rows</th>\n",
       "      <th>failed_playoff_flag</th>\n",
       "      <th>model_percent</th>\n",
       "      <th>random_percent</th>\n",
       "      <th>model_cumm_percent</th>\n",
       "      <th>random_cumm_percent</th>\n",
       "      <th>ks</th>\n",
       "    </tr>\n",
       "  </thead>\n",
       "  <tbody>\n",
       "    <tr>\n",
       "      <th>0</th>\n",
       "      <td>0.0</td>\n",
       "      <td>0</td>\n",
       "      <td>0</td>\n",
       "      <td>0.00</td>\n",
       "      <td>0</td>\n",
       "      <td>0.00</td>\n",
       "      <td>0</td>\n",
       "      <td>0.000000e+00</td>\n",
       "    </tr>\n",
       "    <tr>\n",
       "      <th>1</th>\n",
       "      <td>1.0</td>\n",
       "      <td>71</td>\n",
       "      <td>68</td>\n",
       "      <td>24.37</td>\n",
       "      <td>10</td>\n",
       "      <td>24.37</td>\n",
       "      <td>10</td>\n",
       "      <td>1.437000e+01</td>\n",
       "    </tr>\n",
       "    <tr>\n",
       "      <th>2</th>\n",
       "      <td>2.0</td>\n",
       "      <td>71</td>\n",
       "      <td>66</td>\n",
       "      <td>23.66</td>\n",
       "      <td>10</td>\n",
       "      <td>48.03</td>\n",
       "      <td>20</td>\n",
       "      <td>2.803000e+01</td>\n",
       "    </tr>\n",
       "    <tr>\n",
       "      <th>3</th>\n",
       "      <td>3.0</td>\n",
       "      <td>71</td>\n",
       "      <td>62</td>\n",
       "      <td>22.22</td>\n",
       "      <td>10</td>\n",
       "      <td>70.25</td>\n",
       "      <td>30</td>\n",
       "      <td>4.025000e+01</td>\n",
       "    </tr>\n",
       "    <tr>\n",
       "      <th>4</th>\n",
       "      <td>4.0</td>\n",
       "      <td>71</td>\n",
       "      <td>46</td>\n",
       "      <td>16.49</td>\n",
       "      <td>10</td>\n",
       "      <td>86.74</td>\n",
       "      <td>40</td>\n",
       "      <td>4.674000e+01</td>\n",
       "    </tr>\n",
       "    <tr>\n",
       "      <th>5</th>\n",
       "      <td>5.0</td>\n",
       "      <td>71</td>\n",
       "      <td>24</td>\n",
       "      <td>8.60</td>\n",
       "      <td>10</td>\n",
       "      <td>95.34</td>\n",
       "      <td>50</td>\n",
       "      <td>4.534000e+01</td>\n",
       "    </tr>\n",
       "    <tr>\n",
       "      <th>6</th>\n",
       "      <td>6.0</td>\n",
       "      <td>71</td>\n",
       "      <td>11</td>\n",
       "      <td>3.94</td>\n",
       "      <td>10</td>\n",
       "      <td>99.28</td>\n",
       "      <td>60</td>\n",
       "      <td>3.928000e+01</td>\n",
       "    </tr>\n",
       "    <tr>\n",
       "      <th>7</th>\n",
       "      <td>7.0</td>\n",
       "      <td>71</td>\n",
       "      <td>2</td>\n",
       "      <td>0.72</td>\n",
       "      <td>10</td>\n",
       "      <td>100.00</td>\n",
       "      <td>70</td>\n",
       "      <td>3.000000e+01</td>\n",
       "    </tr>\n",
       "    <tr>\n",
       "      <th>8</th>\n",
       "      <td>8.0</td>\n",
       "      <td>71</td>\n",
       "      <td>0</td>\n",
       "      <td>0.00</td>\n",
       "      <td>10</td>\n",
       "      <td>100.00</td>\n",
       "      <td>80</td>\n",
       "      <td>2.000000e+01</td>\n",
       "    </tr>\n",
       "    <tr>\n",
       "      <th>9</th>\n",
       "      <td>9.0</td>\n",
       "      <td>71</td>\n",
       "      <td>0</td>\n",
       "      <td>0.00</td>\n",
       "      <td>10</td>\n",
       "      <td>100.00</td>\n",
       "      <td>90</td>\n",
       "      <td>1.000000e+01</td>\n",
       "    </tr>\n",
       "    <tr>\n",
       "      <th>10</th>\n",
       "      <td>10.0</td>\n",
       "      <td>70</td>\n",
       "      <td>0</td>\n",
       "      <td>0.00</td>\n",
       "      <td>10</td>\n",
       "      <td>100.00</td>\n",
       "      <td>100</td>\n",
       "      <td>-1.421085e-14</td>\n",
       "    </tr>\n",
       "  </tbody>\n",
       "</table>\n",
       "</div>"
      ],
      "text/plain": [
       "     bin  count_of_rows  failed_playoff_flag  model_percent  random_percent  \\\n",
       "0    0.0              0                    0           0.00               0   \n",
       "1    1.0             71                   68          24.37              10   \n",
       "2    2.0             71                   66          23.66              10   \n",
       "3    3.0             71                   62          22.22              10   \n",
       "4    4.0             71                   46          16.49              10   \n",
       "5    5.0             71                   24           8.60              10   \n",
       "6    6.0             71                   11           3.94              10   \n",
       "7    7.0             71                    2           0.72              10   \n",
       "8    8.0             71                    0           0.00              10   \n",
       "9    9.0             71                    0           0.00              10   \n",
       "10  10.0             70                    0           0.00              10   \n",
       "\n",
       "    model_cumm_percent  random_cumm_percent            ks  \n",
       "0                 0.00                    0  0.000000e+00  \n",
       "1                24.37                   10  1.437000e+01  \n",
       "2                48.03                   20  2.803000e+01  \n",
       "3                70.25                   30  4.025000e+01  \n",
       "4                86.74                   40  4.674000e+01  \n",
       "5                95.34                   50  4.534000e+01  \n",
       "6                99.28                   60  3.928000e+01  \n",
       "7               100.00                   70  3.000000e+01  \n",
       "8               100.00                   80  2.000000e+01  \n",
       "9               100.00                   90  1.000000e+01  \n",
       "10              100.00                  100 -1.421085e-14  "
      ]
     },
     "execution_count": 8,
     "metadata": {},
     "output_type": "execute_result"
    }
   ],
   "source": [
    "# Train results\n",
    "cap_auc(model = logit_regressor, df = results, target = 'failed_playoff_flag', y = playoff_flag, \n",
    "        y_pred = y_pred_train, y_score = proba, X = X_train, length = 3, width = 10)"
   ]
  },
  {
   "cell_type": "markdown",
   "metadata": {},
   "source": [
    "The train model shows strong results. \n",
    "\n",
    "Notable observations:\n",
    "\n",
    "1) **Concordance - 0.96** - This shows that the model probability thresholds are functioning efficiently. To rephrase, for every pair of positives and negative predictions, 94% of the time, positive predictions have higher probabilities than negative predictions.<br><br>\n",
    "\n",
    "2) **Area Under the Curve (AUC) 0.96** - Being similar to **concordance**, AUC is concordance + (tied output pairs * 0.5) and because the model contains no tied pairs when calculating concordance, the AUC is the same as concordance itself. To rephrase, there is a 96% chance that the model will be able to distinguish between 1 and 0.<br><br>\n",
    "\n",
    "3) **F1 - 0.90** - This shows that the model is working to make predictions based on the variance of predictors. To rephrase, the model is not making predictions full of positives and false positives or negatives and false negatives to attain high accuracy. F1 (harmonic mean of precision and recall) describes that out of all positives predicted 0.90 are correct (precision) and out of all positive outcomes in the data, 0.90 were predicted by the model correct (recall).<br><br>\n",
    "\n",
    "4) **Kolmogorov-Smirnov Measure (ks)** - shows that the model predicts 87% of the data's true positives in the first 4 deciles of the data. The difference between the model and what a random model predicts is ks (87% - 40% = 47%). To rephrase, this means that the model improves prediction from the random base by 2.2 times peaking at the 4th decile of the data displaying the model's efficiency to filter for true positive predictions.<br><br>"
   ]
  },
  {
   "cell_type": "code",
   "execution_count": 9,
   "metadata": {},
   "outputs": [
    {
     "name": "stdout",
     "output_type": "stream",
     "text": [
      "Optimization terminated successfully.\n",
      "         Current function value: 0.272267\n",
      "         Iterations 8\n",
      "                           Results: Logit\n",
      "=====================================================================\n",
      "Model:              Logit               Pseudo R-squared: 0.594      \n",
      "Dependent Variable: failed_playoff_flag AIC:              390.0740   \n",
      "Date:               2021-05-09 02:52    BIC:              399.2017   \n",
      "No. Observations:   709                 Log-Likelihood:   -193.04    \n",
      "Df Model:           1                   LL-Null:          -475.24    \n",
      "Df Residuals:       707                 LLR p-value:      9.2707e-125\n",
      "Converged:          1.0000              Scale:            1.0000     \n",
      "No. Iterations:     8.0000                                           \n",
      "---------------------------------------------------------------------\n",
      "                      Coef.  Std.Err.    z     P>|z|   [0.025  0.975]\n",
      "---------------------------------------------------------------------\n",
      "const                -1.0092   0.1423  -7.0896 0.0000 -1.2881 -0.7302\n",
      "aboveMeanAdjWins     -0.5207   0.0405 -12.8529 0.0000 -0.6001 -0.4413\n",
      "=====================================================================\n",
      "\n"
     ]
    }
   ],
   "source": [
    "# Logistic summary for X_train\n",
    "logit_summary(X = X_train, y = playoff_flag)"
   ]
  },
  {
   "cell_type": "markdown",
   "metadata": {},
   "source": [
    "Comparing AIC with -2 Log-Likelihood is virtually similar because the model contains only one feature plus the y-intercept.\n",
    "\n",
    "The train model coefficient, significant at p < 0.05, shows that for every one-unit increase in aboveMeanAdjWins, the log odds of not making the playoffs decrease by -0.52.\n",
    "\n",
    "The more teams increase their adjusted wins above the mean adjusted wins for any given season, the probability of them not making the playoffs decreases."
   ]
  },
  {
   "cell_type": "markdown",
   "metadata": {},
   "source": [
    "#### Model Testing, Evaluation, and Interpretation"
   ]
  },
  {
   "cell_type": "code",
   "execution_count": 10,
   "metadata": {},
   "outputs": [
    {
     "name": "stdout",
     "output_type": "stream",
     "text": [
      "\n",
      "\n",
      "<class 'pandas.core.frame.DataFrame'>\n",
      "RangeIndex: 178 entries, 0 to 177\n",
      "Data columns (total 3 columns):\n",
      " #   Column               Non-Null Count  Dtype  \n",
      "---  ------               --------------  -----  \n",
      " 0   failed_playoff_flag  178 non-null    int64  \n",
      " 1   predictions_train    178 non-null    int64  \n",
      " 2   predicted_proba      178 non-null    float64\n",
      "dtypes: float64(1), int64(2)\n",
      "memory usage: 4.3 KB\n"
     ]
    },
    {
     "data": {
      "text/html": [
       "<div>\n",
       "<style scoped>\n",
       "    .dataframe tbody tr th:only-of-type {\n",
       "        vertical-align: middle;\n",
       "    }\n",
       "\n",
       "    .dataframe tbody tr th {\n",
       "        vertical-align: top;\n",
       "    }\n",
       "\n",
       "    .dataframe thead th {\n",
       "        text-align: right;\n",
       "    }\n",
       "</style>\n",
       "<table border=\"1\" class=\"dataframe\">\n",
       "  <thead>\n",
       "    <tr style=\"text-align: right;\">\n",
       "      <th></th>\n",
       "      <th>failed_playoff_flag</th>\n",
       "      <th>predictions_train</th>\n",
       "      <th>predicted_proba</th>\n",
       "    </tr>\n",
       "  </thead>\n",
       "  <tbody>\n",
       "    <tr>\n",
       "      <th>0</th>\n",
       "      <td>0</td>\n",
       "      <td>0</td>\n",
       "      <td>0.496349</td>\n",
       "    </tr>\n",
       "    <tr>\n",
       "      <th>1</th>\n",
       "      <td>0</td>\n",
       "      <td>0</td>\n",
       "      <td>0.073310</td>\n",
       "    </tr>\n",
       "    <tr>\n",
       "      <th>2</th>\n",
       "      <td>0</td>\n",
       "      <td>0</td>\n",
       "      <td>0.319240</td>\n",
       "    </tr>\n",
       "    <tr>\n",
       "      <th>3</th>\n",
       "      <td>0</td>\n",
       "      <td>0</td>\n",
       "      <td>0.001635</td>\n",
       "    </tr>\n",
       "    <tr>\n",
       "      <th>4</th>\n",
       "      <td>0</td>\n",
       "      <td>0</td>\n",
       "      <td>0.058189</td>\n",
       "    </tr>\n",
       "  </tbody>\n",
       "</table>\n",
       "</div>"
      ],
      "text/plain": [
       "   failed_playoff_flag  predictions_train  predicted_proba\n",
       "0                    0                  0         0.496349\n",
       "1                    0                  0         0.073310\n",
       "2                    0                  0         0.319240\n",
       "3                    0                  0         0.001635\n",
       "4                    0                  0         0.058189"
      ]
     },
     "execution_count": 10,
     "metadata": {},
     "output_type": "execute_result"
    }
   ],
   "source": [
    "# Predict with X_test data\n",
    "y_pred_test = logit_regressor.predict(X_test)\n",
    "# Create a data frame from the predicted results\n",
    "y_pred_test = pd.DataFrame(y_pred_test, columns = ['predictions_train'])\n",
    "\n",
    "# Creates a data frame from the prediction probabilities\n",
    "proba = logit_regressor.predict_proba(X_test)\n",
    "proba = pd.DataFrame(proba, columns = ['0', 'predicted_proba'])\n",
    "proba = proba[['predicted_proba']]\n",
    "\n",
    "# Create a separate data frame from y_test\n",
    "playoff_flag = y_test.reset_index(drop = True).reset_index(drop = True)\n",
    "\n",
    "# Concatenate all three data frames\n",
    "results = pd.concat([playoff_flag, y_pred_test, proba], axis = 1)\n",
    "\n",
    "# Print data summary\n",
    "print('\\n')\n",
    "results.info()\n",
    "results.head()"
   ]
  },
  {
   "cell_type": "markdown",
   "metadata": {},
   "source": [
    "Using the test data, the model is used to predict the failed_playoff_flag output by aboveMeanAdjWins."
   ]
  },
  {
   "cell_type": "code",
   "execution_count": 11,
   "metadata": {},
   "outputs": [
    {
     "name": "stdout",
     "output_type": "stream",
     "text": [
      "\n",
      "\n",
      "Pairs:                              ................7560\n",
      "Conc:                               ................7032\n",
      "Disc:                               .................527\n",
      "Tied:                               ...................1\n",
      "\n",
      "\n",
      "Concordance:                        ................0.93\n",
      "Discordance:                        ................0.07\n",
      "Tied:                               .................0.0\n",
      "Somers D:                           ................0.86\n",
      "\n",
      "\n"
     ]
    },
    {
     "data": {
      "image/png": "[encoded data removed]",
      "text/plain": [
       "<Figure size 720x216 with 1 Axes>"
      ]
     },
     "metadata": {},
     "output_type": "display_data"
    },
    {
     "name": "stdout",
     "output_type": "stream",
     "text": [
      "\n",
      "\n",
      "AUC:                                ................0.93\n",
      "\n",
      "\n",
      "confussion matrix\n",
      "\n",
      "     1   0\n",
      "1  101   7\n",
      "0   18  52\n",
      "\n",
      "\n",
      "Accuracy:                           ................0.86\n",
      "Precision:                          ................0.94\n",
      "Recall:                             ................0.85\n",
      "F1:                                 ................0.89\n",
      "\n",
      "\n"
     ]
    },
    {
     "data": {
      "image/png": "[encoded data removed]",
      "text/plain": [
       "<Figure size 720x216 with 1 Axes>"
      ]
     },
     "metadata": {},
     "output_type": "display_data"
    },
    {
     "data": {
      "text/html": [
       "<div>\n",
       "<style scoped>\n",
       "    .dataframe tbody tr th:only-of-type {\n",
       "        vertical-align: middle;\n",
       "    }\n",
       "\n",
       "    .dataframe tbody tr th {\n",
       "        vertical-align: top;\n",
       "    }\n",
       "\n",
       "    .dataframe thead th {\n",
       "        text-align: right;\n",
       "    }\n",
       "</style>\n",
       "<table border=\"1\" class=\"dataframe\">\n",
       "  <thead>\n",
       "    <tr style=\"text-align: right;\">\n",
       "      <th></th>\n",
       "      <th>bin</th>\n",
       "      <th>count_of_rows</th>\n",
       "      <th>failed_playoff_flag</th>\n",
       "      <th>model_percent</th>\n",
       "      <th>random_percent</th>\n",
       "      <th>model_cumm_percent</th>\n",
       "      <th>random_cumm_percent</th>\n",
       "      <th>ks</th>\n",
       "    </tr>\n",
       "  </thead>\n",
       "  <tbody>\n",
       "    <tr>\n",
       "      <th>0</th>\n",
       "      <td>0.0</td>\n",
       "      <td>0</td>\n",
       "      <td>0</td>\n",
       "      <td>0.00</td>\n",
       "      <td>0</td>\n",
       "      <td>0.00</td>\n",
       "      <td>0</td>\n",
       "      <td>0.00</td>\n",
       "    </tr>\n",
       "    <tr>\n",
       "      <th>1</th>\n",
       "      <td>1.0</td>\n",
       "      <td>18</td>\n",
       "      <td>18</td>\n",
       "      <td>25.71</td>\n",
       "      <td>10</td>\n",
       "      <td>25.71</td>\n",
       "      <td>10</td>\n",
       "      <td>15.71</td>\n",
       "    </tr>\n",
       "    <tr>\n",
       "      <th>2</th>\n",
       "      <td>2.0</td>\n",
       "      <td>18</td>\n",
       "      <td>17</td>\n",
       "      <td>24.29</td>\n",
       "      <td>10</td>\n",
       "      <td>50.00</td>\n",
       "      <td>20</td>\n",
       "      <td>30.00</td>\n",
       "    </tr>\n",
       "    <tr>\n",
       "      <th>3</th>\n",
       "      <td>3.0</td>\n",
       "      <td>18</td>\n",
       "      <td>13</td>\n",
       "      <td>18.57</td>\n",
       "      <td>10</td>\n",
       "      <td>68.57</td>\n",
       "      <td>30</td>\n",
       "      <td>38.57</td>\n",
       "    </tr>\n",
       "    <tr>\n",
       "      <th>4</th>\n",
       "      <td>4.0</td>\n",
       "      <td>18</td>\n",
       "      <td>11</td>\n",
       "      <td>15.71</td>\n",
       "      <td>10</td>\n",
       "      <td>84.28</td>\n",
       "      <td>40</td>\n",
       "      <td>44.28</td>\n",
       "    </tr>\n",
       "    <tr>\n",
       "      <th>5</th>\n",
       "      <td>5.0</td>\n",
       "      <td>18</td>\n",
       "      <td>4</td>\n",
       "      <td>5.71</td>\n",
       "      <td>10</td>\n",
       "      <td>89.99</td>\n",
       "      <td>50</td>\n",
       "      <td>39.99</td>\n",
       "    </tr>\n",
       "    <tr>\n",
       "      <th>6</th>\n",
       "      <td>6.0</td>\n",
       "      <td>18</td>\n",
       "      <td>4</td>\n",
       "      <td>5.71</td>\n",
       "      <td>10</td>\n",
       "      <td>95.70</td>\n",
       "      <td>60</td>\n",
       "      <td>35.70</td>\n",
       "    </tr>\n",
       "    <tr>\n",
       "      <th>7</th>\n",
       "      <td>7.0</td>\n",
       "      <td>18</td>\n",
       "      <td>2</td>\n",
       "      <td>2.86</td>\n",
       "      <td>10</td>\n",
       "      <td>98.56</td>\n",
       "      <td>70</td>\n",
       "      <td>28.56</td>\n",
       "    </tr>\n",
       "    <tr>\n",
       "      <th>8</th>\n",
       "      <td>8.0</td>\n",
       "      <td>18</td>\n",
       "      <td>1</td>\n",
       "      <td>1.43</td>\n",
       "      <td>10</td>\n",
       "      <td>99.99</td>\n",
       "      <td>80</td>\n",
       "      <td>19.99</td>\n",
       "    </tr>\n",
       "    <tr>\n",
       "      <th>9</th>\n",
       "      <td>9.0</td>\n",
       "      <td>18</td>\n",
       "      <td>0</td>\n",
       "      <td>0.00</td>\n",
       "      <td>10</td>\n",
       "      <td>99.99</td>\n",
       "      <td>90</td>\n",
       "      <td>9.99</td>\n",
       "    </tr>\n",
       "    <tr>\n",
       "      <th>10</th>\n",
       "      <td>10.0</td>\n",
       "      <td>16</td>\n",
       "      <td>0</td>\n",
       "      <td>0.00</td>\n",
       "      <td>10</td>\n",
       "      <td>99.99</td>\n",
       "      <td>100</td>\n",
       "      <td>-0.01</td>\n",
       "    </tr>\n",
       "  </tbody>\n",
       "</table>\n",
       "</div>"
      ],
      "text/plain": [
       "     bin  count_of_rows  failed_playoff_flag  model_percent  random_percent  \\\n",
       "0    0.0              0                    0           0.00               0   \n",
       "1    1.0             18                   18          25.71              10   \n",
       "2    2.0             18                   17          24.29              10   \n",
       "3    3.0             18                   13          18.57              10   \n",
       "4    4.0             18                   11          15.71              10   \n",
       "5    5.0             18                    4           5.71              10   \n",
       "6    6.0             18                    4           5.71              10   \n",
       "7    7.0             18                    2           2.86              10   \n",
       "8    8.0             18                    1           1.43              10   \n",
       "9    9.0             18                    0           0.00              10   \n",
       "10  10.0             16                    0           0.00              10   \n",
       "\n",
       "    model_cumm_percent  random_cumm_percent     ks  \n",
       "0                 0.00                    0   0.00  \n",
       "1                25.71                   10  15.71  \n",
       "2                50.00                   20  30.00  \n",
       "3                68.57                   30  38.57  \n",
       "4                84.28                   40  44.28  \n",
       "5                89.99                   50  39.99  \n",
       "6                95.70                   60  35.70  \n",
       "7                98.56                   70  28.56  \n",
       "8                99.99                   80  19.99  \n",
       "9                99.99                   90   9.99  \n",
       "10               99.99                  100  -0.01  "
      ]
     },
     "execution_count": 11,
     "metadata": {},
     "output_type": "execute_result"
    }
   ],
   "source": [
    "# Test results\n",
    "cap_auc(model = logit_regressor, df = results, target = 'failed_playoff_flag', y = playoff_flag, \n",
    "        y_pred = y_pred_test, y_score = proba, X = X_test, length = 3, width = 10)"
   ]
  },
  {
   "cell_type": "markdown",
   "metadata": {},
   "source": [
    "The model shows strong results on the test data. The results are slightly lower, however, this is to be expected on the test data.\n",
    "\n",
    "Notable observations:\n",
    "\n",
    "1) **Concordance** - 0.93 <br>\n",
    "\n",
    "2) **Area Under the Curve (AUC)** - 0.93<br>\n",
    "\n",
    "3) **F1** - 0.89<br>\n",
    "\n",
    "4) **Kolmogorov-Smirnov Measure (ks)** - 44% at the 4th decile, a cumulative percentage 2.1 (84% (model) / 40% (random model)) times greater than a random model.<br>"
   ]
  },
  {
   "cell_type": "markdown",
   "metadata": {},
   "source": [
    "### Model Finalization"
   ]
  },
  {
   "cell_type": "code",
   "execution_count": 12,
   "metadata": {},
   "outputs": [
    {
     "name": "stdout",
     "output_type": "stream",
     "text": [
      "\n",
      "\n",
      "<class 'pandas.core.frame.DataFrame'>\n",
      "RangeIndex: 887 entries, 0 to 886\n",
      "Data columns (total 1 columns):\n",
      " #   Column            Non-Null Count  Dtype  \n",
      "---  ------            --------------  -----  \n",
      " 0   aboveMeanAdjWins  887 non-null    float64\n",
      "dtypes: float64(1)\n",
      "memory usage: 7.1 KB\n",
      "None\n",
      "\n",
      "\n",
      "<class 'pandas.core.frame.DataFrame'>\n",
      "RangeIndex: 887 entries, 0 to 886\n",
      "Data columns (total 1 columns):\n",
      " #   Column               Non-Null Count  Dtype\n",
      "---  ------               --------------  -----\n",
      " 0   failed_playoff_flag  887 non-null    int64\n",
      "dtypes: int64(1)\n",
      "memory usage: 7.1 KB\n",
      "None\n"
     ]
    }
   ],
   "source": [
    "# Set X values\n",
    "X = nhl_df[['aboveMeanAdjWins']]\n",
    "# Set y values\n",
    "y = nhl_df[['failed_playoff_flag']]\n",
    "\n",
    "# Print data results\n",
    "print('\\n')\n",
    "print(X.info())\n",
    "print('\\n')\n",
    "print(y.info())"
   ]
  },
  {
   "cell_type": "markdown",
   "metadata": {},
   "source": [
    "Create an X and y data frame for the entire data set."
   ]
  },
  {
   "cell_type": "code",
   "execution_count": 13,
   "metadata": {},
   "outputs": [
    {
     "data": {
      "text/plain": [
       "LogisticRegression()"
      ]
     },
     "execution_count": 13,
     "metadata": {},
     "output_type": "execute_result"
    }
   ],
   "source": [
    "# Fit and train the logistic regression model\n",
    "logit_regressor = LogisticRegression()\n",
    "logit_regressor.fit(X, y)"
   ]
  },
  {
   "cell_type": "markdown",
   "metadata": {},
   "source": [
    "Train model on entire data set to finalize the model."
   ]
  },
  {
   "cell_type": "code",
   "execution_count": 14,
   "metadata": {},
   "outputs": [],
   "source": [
    "# save the model\n",
    "dump(logit_regressor, open('NHL_Playoffs_Logistic_Regression_Model.pkl', 'wb'))"
   ]
  },
  {
   "cell_type": "markdown",
   "metadata": {},
   "source": [
    "Save logistic regression model."
   ]
  },
  {
   "cell_type": "code",
   "execution_count": 15,
   "metadata": {},
   "outputs": [],
   "source": [
    "# load the model\n",
    "model = load(open('NHL_Playoffs_Logistic_Regression_Model.pkl', 'rb'))"
   ]
  },
  {
   "cell_type": "markdown",
   "metadata": {},
   "source": [
    "Load logistic regression model."
   ]
  },
  {
   "cell_type": "markdown",
   "metadata": {},
   "source": [
    "### Summary\n",
    "\n",
    "aboveMeanAdjWins has proven to be an effective feature when predicting playoff contention for NHL organizations.\n",
    "\n",
    "If teams want to make the playoffs they need to increase their aboveMeanAdjWins. To increase their aboveMeanAdjWins, teams must seek to focus on:\n",
    "\n",
    "1) **shootingPctg**\n",
    "* Feature importance: 6.1121\n",
    "* Coef: 3.9575<br>\n",
    "\n",
    "2) **savePctg**\n",
    "* Feature importance: 6.0182\n",
    "* Coef: 4.1279<br>\n",
    "\n",
    "3) **savesPerGame**\n",
    "* Feature importance: -3.2024\n",
    "* Coef: -1.3473<br>\n",
    "\n",
    "4) **failedShotsPerGame**\n",
    "* Feature importance: 2.7283\n",
    "* Coef: 1.3688<br>\n",
    "\n",
    "5) **winScoreFirstGreater61_high**\n",
    "* Feature importance: 0.6539\n",
    "* Coef: 1.3581<br>\n",
    "\n",
    "Features are in descending order basis importance.<br>\n",
    "Features that are positive values, teams should look to increase them.<br>\n",
    "Features with negative values, teams should look to decrease them."
   ]
  }
 ],
 "metadata": {
  "hide_input": false,
  "kernelspec": {
   "display_name": "Python 3",
   "language": "python",
   "name": "python3"
  },
  "language_info": {
   "codemirror_mode": {
    "name": "ipython",
    "version": 3
   },
   "file_extension": ".py",
   "mimetype": "text/x-python",
   "name": "python",
   "nbconvert_exporter": "python",
   "pygments_lexer": "ipython3",
   "version": "3.8.5"
  },
  "toc": {
   "base_numbering": 1,
   "nav_menu": {},
   "number_sections": true,
   "sideBar": true,
   "skip_h1_title": false,
   "title_cell": "Table of Contents",
   "title_sidebar": "Contents",
   "toc_cell": false,
   "toc_position": {
    "height": "calc(100% - 180px)",
    "left": "10px",
    "top": "150px",
    "width": "376px"
   },
   "toc_section_display": true,
   "toc_window_display": true
  }
 },
 "nbformat": 4,
 "nbformat_minor": 4
}
